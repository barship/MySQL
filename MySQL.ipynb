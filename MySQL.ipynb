{
 "cells": [
  {
   "cell_type": "code",
   "execution_count": 2,
   "metadata": {
    "collapsed": true
   },
   "outputs": [],
   "source": [
    "import pymysql\n",
    "pymysql.install_as_MySQLdb()"
   ]
  },
  {
   "cell_type": "code",
   "execution_count": 2,
   "metadata": {
    "collapsed": false
   },
   "outputs": [
    {
     "name": "stdout",
     "output_type": "stream",
     "text": [
      "Could not connect to MySQL server.\n"
     ]
    }
   ],
   "source": [
    "try:\n",
    "   connection = MySQLdb.connect(user=\"user\",passwd=\"password\",host=\"xxx\",db=\"test\")\n",
    "except:\n",
    "   print(\"Could not connect to MySQL server.\")\n",
    "   exit( 0 )\n"
   ]
  },
  {
   "cell_type": "code",
   "execution_count": 9,
   "metadata": {
    "collapsed": false
   },
   "outputs": [
    {
     "ename": "SyntaxError",
     "evalue": "unexpected EOF while parsing (<ipython-input-9-d8ad2de9cea8>, line 8)",
     "output_type": "error",
     "traceback": [
      "\u001b[0;36m  File \u001b[0;32m\"<ipython-input-9-d8ad2de9cea8>\"\u001b[0;36m, line \u001b[0;32m8\u001b[0m\n\u001b[0;31m    cursor.close()\u001b[0m\n\u001b[0m                  ^\u001b[0m\n\u001b[0;31mSyntaxError\u001b[0m\u001b[0;31m:\u001b[0m unexpected EOF while parsing\n"
     ]
    }
   ],
   "source": [
    "try:\n",
    "   cursor = connection.cursor()\n",
    "   cursor.execute( \"SELECT note_id,note_detail FROM note where note_id = 1\" )\n",
    "   print(\"Rows selected:\", cursor.rowcount)\n",
    "     \n",
    "   for row in cursor.fetchall():\n",
    "       print(\"note : \", row[0], row[1])\n",
    "       cursor.close()"
   ]
  },
  {
   "cell_type": "code",
   "execution_count": null,
   "metadata": {
    "collapsed": true
   },
   "outputs": [],
   "source": []
  }
 ],
 "metadata": {
  "kernelspec": {
   "display_name": "Python [default]",
   "language": "python",
   "name": "python3"
  }
 },
 "nbformat": 4,
 "nbformat_minor": 1
}
